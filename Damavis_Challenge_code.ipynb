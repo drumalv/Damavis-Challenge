{
  "nbformat": 4,
  "nbformat_minor": 0,
  "metadata": {
    "colab": {
      "name": "Damavis-Challenge-code.ipynb",
      "provenance": [],
      "collapsed_sections": [],
      "authorship_tag": "ABX9TyNOpvQz2IZfh3t+xrDLQ4kT",
      "include_colab_link": true
    },
    "kernelspec": {
      "name": "python3",
      "display_name": "Python 3"
    },
    "language_info": {
      "name": "python"
    }
  },
  "cells": [
    {
      "cell_type": "markdown",
      "metadata": {
        "id": "view-in-github",
        "colab_type": "text"
      },
      "source": [
        "<a href=\"https://colab.research.google.com/github/drumalv/Damavis-Challenge/blob/main/Damavis_Challenge_code.ipynb\" target=\"_parent\"><img src=\"https://colab.research.google.com/assets/colab-badge.svg\" alt=\"Open In Colab\"/></a>"
      ]
    },
    {
      "cell_type": "code",
      "metadata": {
        "id": "JOFZCcxRgpuf"
      },
      "source": [
        "import numpy as np"
      ],
      "execution_count": 1,
      "outputs": []
    },
    {
      "cell_type": "code",
      "metadata": {
        "id": "d8SgysqygXDE"
      },
      "source": [
        "\"\"\"\n",
        "class BOARD\n",
        "Represents the board of the problem\n",
        "\"\"\"\n",
        "\n",
        "class Board:\n",
        "\n",
        "  def __init__(self,snake,n,m):\n",
        "    \n",
        "    self.m=m\n",
        "    self.n=n\n",
        "    self.head = snake[0]\n",
        "    self.snake = np.copy(snake)"
      ],
      "execution_count": 2,
      "outputs": []
    },
    {
      "cell_type": "code",
      "metadata": {
        "id": "ZYpPQFtijV7B"
      },
      "source": [
        "\"\"\"\n",
        "class Sol\n",
        "Represents one posible amounts of movements \n",
        "\"\"\"\n",
        "\n",
        "class Sol:\n",
        "\n",
        "  def __init__(self,b,c,d): # b class Board\n",
        "    self.b=Board(b.snake,b.n,b.m)\n",
        "    self.c=c\n",
        "    self.depth=d\n"
      ],
      "execution_count": 3,
      "outputs": []
    },
    {
      "cell_type": "code",
      "metadata": {
        "id": "fVg_pFdbj0P5"
      },
      "source": [
        "\"\"\"ALGORITHM\"\"\"\n",
        "\n",
        "\"\"\" Function to generate the snake after a movement \"\"\"\n",
        "\n",
        "def generateSnakeMovement(snake,move):\n",
        "  newSnake=[]\n",
        "  if move==\"L\":\n",
        "    newSnake.append([snake[0][0]-1,snake[0][1]])\n",
        "  elif move==\"R\":\n",
        "    newSnake.append([snake[0][0]+1,snake[0][1]])\n",
        "  elif move==\"U\":\n",
        "    newSnake.append([snake[0][0],snake[0][1]-1])\n",
        "  elif move==\"D\":\n",
        "    newSnake.append([snake[0][0],snake[0][1]+1])\n",
        "  \n",
        "  for i in range(1,len(snake)):\n",
        "    #cannot repeat positions\n",
        "    if (snake[i-1][0]==newSnake[0][0] and snake[i-1][1]==newSnake[0][1]): continue\n",
        "    newSnake.append(snake[i-1])\n",
        "\n",
        "  return newSnake\n",
        "\n",
        "\"\"\" Function to generate the posible movements of a snake in a board \"\"\"\n",
        "\n",
        "def generateNeighbors(sol):\n",
        "\n",
        "  neighbors=[]\n",
        "  \n",
        "  #generate posible neighbors, checking the bounds and that the snake does not eat itself.\n",
        "\n",
        "  # neighbor L\n",
        "  if sol.b.head[0]-1 >= 0 :\n",
        "    #new snake with L movement \n",
        "    newSnake=generateSnakeMovement(sol.b.snake,\"L\")\n",
        "    if len(newSnake)==len(sol.b.snake):\n",
        "        #new snake with L movement \n",
        "        newSnake=generateSnakeMovement(sol.b.snake,\"L\")\n",
        "        neighbors.append(Sol(Board(newSnake,sol.b.n,sol.b.m),sol.c+\"L\",sol.depth+1))\n",
        "  # neighbor R\n",
        "  if sol.b.head[0]+1 < sol.b.m :\n",
        "    #new snake with R movement\n",
        "    newSnake=generateSnakeMovement(sol.b.snake,\"R\")\n",
        "    if len(newSnake)==len(sol.b.snake):        \n",
        "        neighbors.append(Sol(Board(newSnake,sol.b.n,sol.b.m),sol.c+\"R\",sol.depth+1))\n",
        "  # neighbor U\n",
        "  if sol.b.head[1]-1 >= 0 :\n",
        "    #new snake with U movement\n",
        "    newSnake=generateSnakeMovement(sol.b.snake,\"U\")\n",
        "    if len(newSnake)==len(sol.b.snake):        \n",
        "        neighbors.append(Sol(Board(newSnake,sol.b.n,sol.b.m),sol.c+\"U\",sol.depth+1))\n",
        "  # neighbor D\n",
        "  if sol.b.head[1]+1 < sol.b.n :\n",
        "    #new snake with D movement\n",
        "    newSnake=generateSnakeMovement(sol.b.snake,\"D\")\n",
        "    if len(newSnake)==len(sol.b.snake):        \n",
        "        neighbors.append(Sol(Board(newSnake,sol.b.n,sol.b.m),sol.c+\"D\",sol.depth+1))\n",
        "\n",
        "  return neighbors\n"
      ],
      "execution_count": 4,
      "outputs": []
    },
    {
      "cell_type": "code",
      "metadata": {
        "id": "_ScGRbFfG6I6"
      },
      "source": [
        "\"\"\" Algorithm of the problem \"\"\"\n",
        "# b board\n",
        "# generate neighbors until the indicate depth and return the solutions and the \n",
        "# number of posible amounts of movements\n",
        "def numberOfAvailableDifferentPaths(b, depth):\n",
        "    \n",
        "  if(b.n > 10 or b.m > 10 or b.n < 1 or b.m < 1): # bound exception\n",
        "      raise Exception(\"Bound dimension error\")\n",
        "      \n",
        "  if(3 > len(b.snake) or 7 < len(b.snake)): #snake dimension\n",
        "     raise Exception(\"Snake dimension error\")\n",
        "     \n",
        "  if(len(snake[0])!=2): #snake dimension\n",
        "     raise Exception(\"Snake dimension error\")\n",
        "     \n",
        "  if(depth < 1 or depth > 20): #snake dimension\n",
        "     raise Exception(\"depth value error\")\n",
        "     \n",
        "    \n",
        "    \n",
        "  listofSol=[]\n",
        "  solIni=Sol(b,\"\",0)\n",
        "  depth_act=1\n",
        "  \n",
        "  #generate the initial neigbor\n",
        "  neighbors=generateNeighbors(solIni)\n",
        "  listofSol.extend(neighbors)\n",
        "  \n",
        "  #if its empty, return 0\n",
        "  if len(neighbors)==0: return listofSol,0\n",
        "  \n",
        "  while(depth_act<depth):\n",
        "    while(listofSol[0].depth!=depth_act+1):\n",
        "        listofSol.extend(generateNeighbors(listofSol[0]))\n",
        "        listofSol.pop(0)\n",
        "    \n",
        "    depth_act+=1\n",
        "  \n",
        "  \n",
        "  return listofSol, len(listofSol)"
      ],
      "execution_count": 5,
      "outputs": []
    },
    {
      "cell_type": "markdown",
      "metadata": {
        "id": "YIKFqqTmG8A6"
      },
      "source": [
        "# TEST"
      ]
    },
    {
      "cell_type": "code",
      "metadata": {
        "colab": {
          "base_uri": "https://localhost:8080/"
        },
        "id": "JEiVZFVlG-Ko",
        "outputId": "5ef273b3-ca25-4b90-fcec-0464787622af"
      },
      "source": [
        "#For board = [4, 3], snake = [[2, 2], [3, 2], [3, 1], [3, 0], [2, 0], [1, 0], [0, 0]], and depth = 3, the output\n",
        "#should be “numberOfAvailableDifferentPaths(board, snake, depth) = 7”.\n",
        "\n",
        "\n",
        "snake=[[2, 2], [3, 2], [3, 1], [3, 0], [2, 0], [1, 0], [0, 0]]\n",
        "b = Board(snake,3,4)\n",
        "lista,num=numberOfAvailableDifferentPaths(b,3)\n",
        "\n",
        "print(\"First example for board = [4, 3], snake = [[2, 2], [3, 2], [3, 1], [3, 0], [2, 0], [1, 0], [0, 0]], and depth = 3\\n\")\n",
        "print(\"numberOfAvailableDifferentPaths = \"+str(num))\n",
        "print(\"Available movements:\")\n",
        "for i in range(len(lista)):\n",
        "    print(lista[i].c)\n",
        "    \n",
        "#Test 1:\n",
        "#   ○ board: [4, 3]\n",
        "#   ○ snake: [[2,2], [3,2], [3,1], [3,0], [2,0], [1,0], [0,0]]\n",
        "#   ○ depth: 3\n",
        "#Result: 7\n",
        "\n",
        "snake=[[2, 2], [3, 2], [3, 1], [3, 0], [2, 0], [1, 0], [0, 0]]\n",
        "b = Board(snake,3,4)\n",
        "lista,num=numberOfAvailableDifferentPaths(b,3)\n",
        "\n",
        "print(\"\\n\\nTest 1: board = [4, 3], snake = [[2, 2], [3, 2], [3, 1], [3, 0], [2, 0], [1, 0], [0, 0]], and depth = 3\\n\")\n",
        "print(\"numberOfAvailableDifferentPaths = \"+str(num))\n",
        "\n",
        "#Test 2:\n",
        "#   ○ board: [2, 3]\n",
        "#   ○ snake: [[0,2], [0,1], [0,0], [1,0], [1,1], [1,2]]\n",
        "#   ○ depth: 10\n",
        "#Result: 1\n",
        "\n",
        "snake=[[0,2], [0,1], [0,0], [1,0], [1,1], [1,2]]\n",
        "b = Board(snake,3,2)\n",
        "lista,num=numberOfAvailableDifferentPaths(b,10)\n",
        "\n",
        "print(\"\\n\\nTest 2: board = [2, 3], snake = [[0,2], [0,1], [0,0], [1,0], [1,1], [1,2]], and depth = 10\\n\")\n",
        "print(\"numberOfAvailableDifferentPaths = \"+str(num))\n",
        "\n",
        "\n",
        "#Test 3:\n",
        "#   ○ board: [10, 10]\n",
        "#   ○ snake: [[5,5], [5,4], [4,4], [4,5]]\n",
        "#   ○ depth: 4\n",
        "#Result: 81\n",
        "\n",
        "snake=[[5,5], [5,4], [4,4], [4,5]]\n",
        "b = Board(snake,10,10)\n",
        "lista,num=numberOfAvailableDifferentPaths(b,4)\n",
        "\n",
        "print(\"\\n\\nTest 3: board = [10, 10], snake = [[5,5], [5,4], [4,4], [4,5]], and depth = 4\\n\")\n",
        "print(\"numberOfAvailableDifferentPaths = \"+str(num))"
      ],
      "execution_count": 6,
      "outputs": [
        {
          "output_type": "stream",
          "text": [
            "First example for board = [4, 3], snake = [[2, 2], [3, 2], [3, 1], [3, 0], [2, 0], [1, 0], [0, 0]], and depth = 3\n",
            "\n",
            "numberOfAvailableDifferentPaths = 7\n",
            "Available movements:\n",
            "LLU\n",
            "LUL\n",
            "LUR\n",
            "LUU\n",
            "ULL\n",
            "ULU\n",
            "ULD\n",
            "\n",
            "\n",
            "Test 1: board = [4, 3], snake = [[2, 2], [3, 2], [3, 1], [3, 0], [2, 0], [1, 0], [0, 0]], and depth = 3\n",
            "\n",
            "numberOfAvailableDifferentPaths = 7\n",
            "\n",
            "\n",
            "Test 2: board = [2, 3], snake = [[0,2], [0,1], [0,0], [1,0], [1,1], [1,2]], and depth = 10\n",
            "\n",
            "numberOfAvailableDifferentPaths = 1\n",
            "\n",
            "\n",
            "Test 3: board = [10, 10], snake = [[5,5], [5,4], [4,4], [4,5]], and depth = 4\n",
            "\n",
            "numberOfAvailableDifferentPaths = 81\n"
          ],
          "name": "stdout"
        }
      ]
    }
  ]
}